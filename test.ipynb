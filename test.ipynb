{
 "cells": [
  {
   "cell_type": "code",
   "execution_count": 2,
   "metadata": {},
   "outputs": [],
   "source": [
    "import pandas as pd\n",
    "\n",
    "def _create_small_csv():\n",
    "    \"\"\"Creates a small CSV and saves it to `/tmp/my_csv_file.csv`.\n",
    "    \"\"\"\n",
    "    data = pd.DataFrame({\n",
    "        \"first_name\": [\"Dark\", \"Dark\"],\n",
    "        \"last_name\": [\"Vador\", \"Maul\"]\n",
    "    })\n",
    "    \n",
    "    data.to_csv(f\"./tmp/test.csv\", index=False)\n",
    "\n",
    "_create_small_csv()"
   ]
  }
 ],
 "metadata": {
  "kernelspec": {
   "display_name": "Python 3.10.14 ('ray2')",
   "language": "python",
   "name": "python3"
  },
  "language_info": {
   "codemirror_mode": {
    "name": "ipython",
    "version": 3
   },
   "file_extension": ".py",
   "mimetype": "text/x-python",
   "name": "python",
   "nbconvert_exporter": "python",
   "pygments_lexer": "ipython3",
   "version": "3.10.14"
  },
  "orig_nbformat": 4,
  "vscode": {
   "interpreter": {
    "hash": "4fee7fb46fe4cc7bab812f8735b608f5c5b49b424d9a54e58b60dbbd578e6b3d"
   }
  }
 },
 "nbformat": 4,
 "nbformat_minor": 2
}
